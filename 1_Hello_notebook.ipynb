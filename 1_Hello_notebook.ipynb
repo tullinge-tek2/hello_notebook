{
 "cells": [
  {
   "cell_type": "markdown",
   "metadata": {},
   "source": [
    "# 1. Välkommen till en Jupyter Notebook\n",
    "\n",
    "Hej! Det här är en **Jupyter Notebook**. Det är som en interaktiv bok, som blandar text, bilder och kod. Notebooken är uppbygd av *celler*, alltså rutor. Varje cell kan antingen innehålla *oformaterad text*, *formaterad markdown text* som den här eller *kod*.\n",
    "\n",
    "Till vänster ser du ett <span style=\"color:blue\">**blått**</span> streck och runt den här cellen ser du en grå ram. Det betyder att **den här cellen är i fokus**.\n",
    "\n",
    "- Klicka på cellen nedan (\"1.1 Celler med körbar kod\") och notera att den cellen blir i fokus istället.\n",
    "\n",
    "\n",
    "### TODO: Lägg till introvideo? Lägg till förväntingar?\n",
    "- Följa instruktioner\n",
    "- Bygg upp varför det här är bra skit\n",
    "- Att verkligen utforska, testa, labba... Hela syftet med interaktivitet är att ändra och se vad som händer!\n"
   ]
  },
  {
   "cell_type": "markdown",
   "metadata": {},
   "source": [
    "## 1.1 Celler med körbar kod\n",
    "\n",
    "I nästa cell ser du ett kodblock med Python. Koden räknar ut strömmen i en resistor utifrån Ohms lag:\n",
    "\n",
    "$$ {\\Large I = \\frac{U}{R} } $$\n",
    "\n",
    "1. Klicka på cellen nedan så att den blir i fokus. \n",
    "2. Tryck sedan `SHIFT-Enter` för att köra cellen. Resultatet / output dyker upp under cellen. Ser du?"
   ]
  },
  {
   "cell_type": "code",
   "execution_count": null,
   "metadata": {},
   "outputs": [],
   "source": [
    "\n",
    "U = 5\n",
    "R = 200\n",
    "I = U / R\n",
    "\n",
    "print(f'Strömmen blir {I * 1000} mA om spänningen är {U} V och resistansen är {R} Ohm')\n"
   ]
  },
  {
   "cell_type": "markdown",
   "metadata": {},
   "source": [
    "## 1.2 Redigera celler med kod\n",
    "\n",
    "Vi ska nu använda vår notebook för att svara på följande fråga:\n",
    "\n",
    "*Hur stor blir strömmen om du dubblar spänningen till 10 V och samtidigt dubblar resistansen till 400 Ohm?*\n",
    "\n",
    "1. För att redigera koden, klicka någonstans i koden ovan. Strecket till vänster ska vara **<span style=\"color:green\">grönt</span>** istället för blått när du är i redigeringsläge.\n",
    "2. Ändra värdena på `U` och `R`\n",
    "3. Gör en förutsägelse, hur stor borde strömmen bli om du både dubblar spänningen och motståndet, enligt Ohms lag?\n",
    "3. Tryck på `SHIFT-enter` för att köra cellen och se resultatet.\n",
    "\n",
    "**OBS**: Du måste alltså köra en cell igen (med `SHIFT-enter`) efter att du gjort ändringar i kod. Och cellen måste vara i fokus innan du kan köra koden."
   ]
  },
  {
   "cell_type": "markdown",
   "metadata": {},
   "source": [
    "## 1.3 Redigera andra celler\n",
    "\n",
    "Du kan faktiskt ändra alla celler, även de som har markdown-text som den här!\n",
    "\n",
    "- **Dubbelklicka** på den här cellen så att ramen blir <span style=\"color:green\">**grön**</span>. Du ser då den \"råa\" markdown-texten.\n",
    "- Skriv en valfri hälsning nedan.\n",
    "- Tryck sedan `SHIFT-Enter` för att köra cellen så att texten formatteras.\n",
    "\n",
    "### ÄNDRA HÄR\n",
    "\n",
    "**Einar** säger hej! Vem är du? Vad säger du?\n",
    "\n",
    "\n"
   ]
  },
  {
   "cell_type": "markdown",
   "metadata": {},
   "source": [
    "## 1.4 Hur ångrar jag?\n",
    "\n",
    "Det är bra att veta hur man ångrar ändringar:\n",
    "\n",
    "- Klicka i koden ovan så att den blir redigeringsbar och tryck sedan `CTRL-Z` för att gå tillbaka i historiken.\n",
    "- För att gå framåt, tryck `CTRL-Y`. Prova båda dessa snabbkommandon.\n",
    "- Tryck `SHIFT-Enter` för att köra koden igen.\n",
    "\n",
    "**OBS**: Cellen måste vara i fokus innan du kan utföra dessa kommandon. \n"
   ]
  },
  {
   "cell_type": "markdown",
   "metadata": {},
   "source": [
    "## 1.5 Läckage mellan celler\n",
    "\n",
    "Om du definierar en variabel eller funktion i en cell som du sedan kör, så kommer den att synas i andra celler. Cellerna \"läcker\" alltså.\n",
    "\n",
    "- Printa ut `I` och `U` och `R` i den tomma cellen nedanför (skriv alltså `print(U)` och så vidare).\n",
    "\n",
    "(Kom ihåg att trycka `SHIFT-enter` för att köra cellen.)\n"
   ]
  },
  {
   "cell_type": "code",
   "execution_count": 4,
   "metadata": {},
   "outputs": [],
   "source": [
    "# Skriv kod här\n"
   ]
  },
  {
   "cell_type": "markdown",
   "metadata": {},
   "source": [
    "<details>\n",
    "    <summary>Klicka här för ledtråd</summary>\n",
    "\n",
    "    \n",
    "Såhär kan man skriva:\n",
    "````python\n",
    "print(\"Hej\") # Skriver ut stringen \"Hej\"\n",
    "print(x)     # Skriver ut variabeln x (eller ger ett felmeddelande om x inte definerats)\n",
    "````\n",
    "</details>\n",
    "\n"
   ]
  },
  {
   "cell_type": "markdown",
   "metadata": {},
   "source": [
    "## 1.6. Var körs den här koden egentligen?\n",
    "\n",
    "Just den här notebooken körs på en server hos [MyBinder](https://mybinder.org/), det vill säga inte på din dator. Om du stänger sidan i din webbläsare så försvinner dina ändringar. Gör inte det nu, lita på mig bara!\n",
    "\n",
    "Du kommer i senare övningar få egna kopior av Jupyter Notebooks. Då kommer koden köras på din dator och ändringar kan sparas och pushas upp till Github.\n"
   ]
  },
  {
   "cell_type": "markdown",
   "metadata": {},
   "source": [
    "## 1.7 Inlämning\n"
   ]
  }
 ],
 "metadata": {
  "kernelspec": {
   "display_name": "Python 3",
   "language": "python",
   "name": "python3"
  },
  "language_info": {
   "codemirror_mode": {
    "name": "ipython",
    "version": 3
   },
   "file_extension": ".py",
   "mimetype": "text/x-python",
   "name": "python",
   "nbconvert_exporter": "python",
   "pygments_lexer": "ipython3",
   "version": "3.6.9"
  }
 },
 "nbformat": 4,
 "nbformat_minor": 4
}
