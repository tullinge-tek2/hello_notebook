{
 "cells": [
  {
   "cell_type": "markdown",
   "metadata": {},
   "source": [
    "# 1. Välkommen till en Jupyter Notebook\n",
    "\n",
    "Hej! Det här är en **Jupyter Notebook**. Det är som en interaktiv bok, som blandar text, bilder och kod. Detta är ett mycket användbart och populärt verktyg bland forskare, studenter och ingenjörer.\n",
    "\n",
    "- **<mark>Läs och följ instruktionerna noga, varje ord. Försök förstå vad du läser.</mark>**\n",
    "\n",
    "Notebooken är uppbygd av *celler*, alltså rutor. Varje cell kan antingen innehålla *oformaterad text*, *formaterad markdown text* som den här eller *kod*.\n",
    "\n",
    "Till vänster ser du ett **<span style=\"color:blue\">blått</span>** streck och runt den här cellen ser du en grå ram. Det betyder att **den här cellen är i fokus** (*Command Mode*).\n",
    "\n",
    "- Klicka på cellen nedan (\"1.1 Celler med körbar kod\") och notera att den cellen blir i fokus istället.\n",
    "\n"
   ]
  },
  {
   "cell_type": "markdown",
   "metadata": {},
   "source": [
    "## 1.1 Celler med körbar kod\n",
    "\n",
    "I nästa cell ser du ett kodblock med Python. Koden räknar ut strömmen i en resistor utifrån Ohms lag:\n",
    "\n",
    "$$ {\\Large I = \\frac{U}{R} } $$\n",
    "\n",
    "1. Klicka på cellen nedan så att den blir i fokus. \n",
    "2. Tryck sedan `SHIFT-Enter` för att köra cellen. Resultatet / output dyker upp under cellen. Ser du?"
   ]
  },
  {
   "cell_type": "code",
   "execution_count": null,
   "metadata": {},
   "outputs": [],
   "source": [
    "\n",
    "U = 5\n",
    "R = 200\n",
    "I = U / R\n",
    "\n",
    "print(f'Strömmen blir {I * 1000} mA om spänningen är {U} V och resistansen är {R} Ohm')\n"
   ]
  },
  {
   "cell_type": "markdown",
   "metadata": {},
   "source": [
    "## 1.2 Redigera celler med kod\n",
    "\n",
    "Vi ska nu använda vår notebook för att svara på följande fråga:\n",
    "\n",
    "*Hur stor blir strömmen om du dubblar spänningen till 10 V och samtidigt dubblar resistansen till 400 Ohm?*\n",
    "\n",
    "1. För att redigera koden, klicka någonstans i koden ovan. Strecket till vänster ska vara **<span style=\"color:green\">grönt</span>** istället för blått när du är i redigeringsläge (*Edit Mode*).\n",
    "2. Ändra värdena på `U` och `R`\n",
    "3. Gör en förutsägelse, hur stor borde strömmen bli om du både dubblar spänningen och motståndet, enligt Ohms lag?\n",
    "3. Tryck på `SHIFT-enter` för att köra cellen och se resultatet.\n",
    "\n",
    "**OBS**: Du måste alltså köra en cell igen (med `SHIFT-enter`) efter att du gjort ändringar i kod. Och cellen måste vara i fokus innan du kan köra koden."
   ]
  },
  {
   "cell_type": "markdown",
   "metadata": {},
   "source": [
    "## 1.3 Redigera andra celler\n",
    "\n",
    "Du kan faktiskt ändra alla celler, även de som har markdown-text som den här!\n",
    "\n",
    "- **Dubbelklicka** på den här cellen så att ramen blir <span style=\"color:green\">**grön**</span>. Du ser då den \"råa\" markdown-texten.\n",
    "- Skriv en valfri hälsning nedan.\n",
    "- Tryck sedan `SHIFT-Enter` för att köra cellen så att texten formatteras.\n",
    "\n",
    "### ÄNDRA HÄR\n",
    "\n",
    "**Einar** säger hej! Vem är du? Vad säger du?\n",
    "\n",
    "\n"
   ]
  },
  {
   "cell_type": "markdown",
   "metadata": {},
   "source": [
    "## 1.4 Hur ångrar jag?\n",
    "\n",
    "Det är bra att veta hur man ångrar ändringar:\n",
    "\n",
    "- Klicka i koden ovan så att den blir redigeringsbar och tryck sedan `CTRL-Z` för att gå tillbaka i historiken.\n",
    "- För att gå framåt, tryck `CTRL-Y`. Prova båda dessa snabbkommandon.\n",
    "- Tryck `SHIFT-Enter` för att köra koden igen.\n",
    "\n",
    "**OBS**: Cellen måste vara i fokus innan du kan utföra dessa kommandon. \n"
   ]
  },
  {
   "cell_type": "markdown",
   "metadata": {},
   "source": [
    "## 1.5 Läckage mellan celler\n",
    "\n",
    "Om du definierar en variabel eller funktion i en cell som du sedan kör, så kommer den att synas i andra celler. Cellerna \"läcker\" alltså, vilket kan vara både bra och dåligt.\n",
    "\n",
    "- Printa ut `I` och `U` och `R` i den tomma cellen nedanför (skriv alltså `print(U)` och så vidare).\n",
    "- Räkna och printa ut effekten P som avges i resistorn (och som blir till värme)\n",
    "\n",
    "(Kom ihåg att trycka `SHIFT-enter` för att köra cellen.)\n"
   ]
  },
  {
   "cell_type": "code",
   "execution_count": 4,
   "metadata": {},
   "outputs": [],
   "source": [
    "# Skriv kod här\n"
   ]
  },
  {
   "cell_type": "markdown",
   "metadata": {},
   "source": [
    "<details>\n",
    "    <summary>Klicka här för ledtråd</summary>\n",
    "\n",
    "    \n",
    "Såhär kan man skriva:\n",
    "````python\n",
    "print(\"Hej\")              # Skriver ut stringen \"Hej\"\n",
    "print(x)                  # Skriver ut variabeln x (eller ger ett felmeddelande om x inte definerats)\n",
    "print(f\"Spänning: {U} V\")   # Skriver ut \"Spänning: 10\" (eller vad nu värdet på variablen U råkar vara) \n",
    "````\n",
    "</details>\n",
    "\n"
   ]
  },
  {
   "cell_type": "markdown",
   "metadata": {},
   "source": [
    "## 1.6. Var körs den här koden egentligen?\n",
    "\n",
    "Just den här notebooken körs på en server hos [MyBinder](https://mybinder.org/), det vill säga inte på din dator. Om du stänger sidan i din webbläsare så försvinner dina ändringar. Gör inte det nu, lita på mig bara!\n",
    "\n",
    "Du kommer i senare övningar få egna kopior av Jupyter Notebooks. Då kommer koden köras på din dator och ändringar kan sparas och pushas upp till Github.\n"
   ]
  },
  {
   "cell_type": "markdown",
   "metadata": {},
   "source": [
    "## 1.7 Teorifrågor\n",
    "\n",
    "Svara på följande frågor. Fundera först, klicka sedan på frågan för att se svaret. Om det var något du inte kunde, stäng fliken, ta en paus, gå tillbaka senare och gör igen. Jag kommer att testa er på dessa och liknande frågor längre fram.\n",
    "\n",
    "(du behöver inte skriva ner svaren någonstans. Men du gör bäst i att lära dig svaren, för din egen skull)\n",
    "\n",
    "<br>\n",
    "<details>\n",
    "    <summary>Vad är skillnaden på en digital och analog signal?</summary>\n",
    "    <div>\n",
    "        <p>\n",
    "    En analog signal kan anta alla möjliga värden. En digital signal kan bara anta vissa bestämda värden. En <i>binär</i> digital signal kan bara anta två värden.\n",
    "        </p>\n",
    "        <img src=\"https://technodabbler.com/content/images/2014/May/Analog-vs-Digital.png\" style=\"width:400px\" />\n",
    "    </div>\n",
    "</details>\n",
    "\n",
    "<br>\n",
    "<details>\n",
    "    <summary>Vad säger Kirchoffs strömlag?</summary>\n",
    "    <div>\n",
    "        <p>\n",
    "    Summan av alla strömmarna in i en nod (korsning) är noll. Om det går in 3 A och 2 A så måste det gå ut 5 A någon annanstans. Laddning konserveras (försvinner inte, och skapas inte).\n",
    "        </p>\n",
    "        <img src=\"https://electricalacademia.com/wp-content/uploads/2017/01/1-4.gif\" style=\"width:400px\" />\n",
    "    </div>\n",
    "</details>\n",
    "\n",
    "<br>\n",
    "<details>\n",
    "    <summary>Vad säger Kirchoffs spänningslag?</summary>\n",
    "    <div>\n",
    "        <p>\n",
    "    Om du går runt en krets så kommer summan av alla spänningsskillnader vara lika med noll. Förklaring: Tänk på kretsen som en berg- och dalbana. När du åkt runt ett varv så måste du ha åkt upp lika mycket som du åkt ned. I en krets finns det en spänningskälla som ökar potentialen, och sedan faller potentialen över varje komponent.\n",
    "        </p>\n",
    "        <img src=\"http://image.slidesharecdn.com/kirchhoffslaws-141003030427-phpapp01/95/kirchhoffs-laws-3-638.jpg\" style=\"width:400px\" />\n",
    "    </div>\n",
    "</details>\n",
    "\n",
    "<br>\n",
    "<details>\n",
    "    <summary>Vad är det matematiska förhållandet mellan energi och effekt?</summary>\n",
    "    <div>\n",
    "        <p>\n",
    "            Effekt (power) är energi per tidsenhet. Effekt är <strong>derivatan</strong> av energi med avseende på tiden. Energi är <strong>integralen</strong> av effekt med avseende på tiden.\n",
    "        </p>\n",
    "        <img src=\"https://developer.apple.com/library/archive/documentation/Performance/Conceptual/EnergyGuide-iOS/Art/2-1_energy-is-power-over-time_2x.png\" style=\"width:400px\" />\n",
    "    </div>\n",
    "</details>\n",
    "\n",
    "\n",
    "<br>\n",
    "<details>\n",
    "    <summary>Vad är SI-enheten för energi?</summary>\n",
    "    <div>\n",
    "        <p>\n",
    "            Joule (J)\n",
    "        </p>\n",
    "    </div>\n",
    "</details>\n",
    "\n",
    "<br>\n",
    "<details>\n",
    "    <summary>Vad är SI-enheten för effekt?</summary>\n",
    "    <div>\n",
    "        <p>\n",
    "            Watt (W). <br> $ 1 W = 1 \\frac{J}{s} \\\\ 1 J = 1 W \\cdot s $  \n",
    "        </p>\n",
    "    </div>\n",
    "</details>\n",
    "\n",
    "\n",
    "<br>\n",
    "<details>\n",
    "    <summary>Sant eller falskt? <i>kWh är en enhet för effekt.</i></summary>\n",
    "    <div>\n",
    "        <p>\n",
    "            Falskt. kWh är en enhet för <strong>energi</strong>. Det är den energin som motsvarar en <strong>effekt</strong> av 1 kW under en timme (h). $$ {\\large 1 kWh = 1 kW \\cdot 1 h = 1000 W \\cdot 3600 s = 3600000 Ws = 3.6 MJ }$$\n",
    "        </p>\n",
    "    </div>\n",
    "</details>\n",
    "\n"
   ]
  },
  {
   "cell_type": "markdown",
   "metadata": {},
   "source": [
    "## 1.8 Inlämning\n",
    "\n",
    "Färdigställ och kör koden i nästa cell så att output blir:\n",
    "\n",
    "````\n",
    "What's your name?\n",
    "My name is (ditt förnamn och efternamn).\n",
    "\n",
    "How old are you?\n",
    "I am (din ålder) years old.\n",
    "````\n",
    "\n",
    "Exportera den här filen till `html`-format genom att klicka på `File-> Download as -> HTML` uppe till vänster.\n",
    "\n",
    "- **Lämna in den nedladdade html-filen på Google Classroom.**\n"
   ]
  },
  {
   "cell_type": "code",
   "execution_count": null,
   "metadata": {},
   "outputs": [],
   "source": [
    "first_name =  \n",
    "last_name = \n",
    "age = \n",
    "\n",
    "print(\"What's your name?\")\n",
    "print(f\"My name is {first_name} {last_name}\")\n",
    "\n",
    "print(\"How old are you?\")\n"
   ]
  },
  {
   "cell_type": "markdown",
   "metadata": {},
   "source": [
    "PS. I den här övningen har du använt [f-strings](https://realpython.com/python-f-strings/#simple-syntax) för att kombinera strängar och variabler."
   ]
  },
  {
   "cell_type": "markdown",
   "metadata": {},
   "source": [
    "## Kolla denna video\n",
    "\n",
    "https://www.youtube.com/watch?v=eCO7gAzULCc\n",
    "\n",
    "[![alt text](http://example.com/exampl.png)](http://example.com/link \"title\")"
   ]
  }
 ],
 "metadata": {
  "kernelspec": {
   "display_name": "Python 3",
   "language": "python",
   "name": "python3"
  },
  "language_info": {
   "codemirror_mode": {
    "name": "ipython",
    "version": 3
   },
   "file_extension": ".py",
   "mimetype": "text/x-python",
   "name": "python",
   "nbconvert_exporter": "python",
   "pygments_lexer": "ipython3",
   "version": "3.6.9"
  }
 },
 "nbformat": 4,
 "nbformat_minor": 4
}
